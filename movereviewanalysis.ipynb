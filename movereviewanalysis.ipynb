{
 "cells": [
  {
   "cell_type": "code",
   "execution_count": 1,
   "metadata": {
    "scrolled": true
   },
   "outputs": [
    {
     "name": "stderr",
     "output_type": "stream",
     "text": [
      "[nltk_data] Downloading package punkt to\n",
      "[nltk_data]     C:\\Users\\tahin\\AppData\\Roaming\\nltk_data...\n",
      "[nltk_data]   Package punkt is already up-to-date!\n"
     ]
    }
   ],
   "source": [
    "import pandas as pd\n",
    "import re\n",
    "from pandas import read_excel\n",
    "from nltk.corpus import stopwords\n",
    "from nltk.tokenize import word_tokenize\n",
    "import string\n",
    "\n",
    "from sklearn.feature_extraction.text import CountVectorizer, TfidfTransformer\n",
    "from sklearn.linear_model import LogisticRegression\n",
    "from sklearn.svm import SVC\n",
    "from sklearn.model_selection import train_test_split, StratifiedKFold, cross_val_score\n",
    "from sklearn.pipeline import make_pipeline, Pipeline\n",
    "from sklearn.model_selection import GridSearchCV\n",
    "from sklearn.metrics import make_scorer, accuracy_score, f1_score\n",
    "from sklearn.metrics import roc_curve, auc\n",
    "from sklearn.metrics import confusion_matrix, roc_auc_score, recall_score, precision_score\n",
    "\n",
    "import sklearn\n",
    "import nltk\n",
    "nltk.download('punkt')\n",
    "from sklearn.datasets import load_files\n",
    "from sklearn.feature_extraction.text import CountVectorizer\n",
    "from sklearn.feature_extraction.text import TfidfTransformer\n",
    "from sklearn.tree import DecisionTreeClassifier\n",
    "from sklearn.naive_bayes import MultinomialNB\n",
    "from sklearn.neighbors import KNeighborsClassifier\n",
    "from sklearn import svm\n",
    "\n",
    "import matplotlib.pyplot as plt; plt.rcdefaults()\n",
    "import numpy as np\n",
    "import matplotlib.pyplot as plt\n",
    "\n",
    "from sklearn.model_selection import train_test_split\n",
    "from sklearn.metrics import confusion_matrix"
   ]
  },
  {
   "cell_type": "code",
   "execution_count": 2,
   "metadata": {},
   "outputs": [
    {
     "name": "stdout",
     "output_type": "stream",
     "text": [
      "                                              Review    Target  Sentiment\n",
      "0  পাল্প ফিকশন দেখলাম। আগে রেটিং টা দেখেনিয়েছিলাম...  Positive          1\n",
      "1  মুভি রিভিউঃ পদ্মাবতী (padmavati) এক নারী লোভীর...  Positive          1\n",
      "2  হালকা স্পয়লার! মুভিঃ দারুচিনি দ্বীপ রেটিং- ৯.৫...  Positive          1\n",
      "3  Joker (2019) IMDB রেটিং – 9.5 কোন রেটিং দিয়ে ম...  Positive          1\n",
      "4  এই সপ্তাহে দেখা মুভির রিভিউ- জাজমেন্টাল হ্যায় ...  Negative          0\n"
     ]
    }
   ],
   "source": [
    "my_sheet = 'Sheet1'\n",
    "file_name = r\"C:\\Users\\tahin\\Desktop\\cse475\\ml.xlsx\" # name of the excel file\n",
    "data = read_excel(file_name, sheet_name = my_sheet)\n",
    "print(data.head()) # shows headers with top 5 rows"
   ]
  },
  {
   "cell_type": "code",
   "execution_count": 3,
   "metadata": {},
   "outputs": [],
   "source": [
    "review= data.Review\n",
    "sentiment = data.Sentiment"
   ]
  },
  {
   "cell_type": "code",
   "execution_count": 4,
   "metadata": {},
   "outputs": [],
   "source": [
    "#convert dataframe to matrix\n",
    "matrixOFdata1= review.values\n",
    "matrixOFdata2= sentiment.values\n",
    "review = matrixOFdata1.ravel()\n",
    "sentiment = matrixOFdata2.ravel()"
   ]
  },
  {
   "cell_type": "code",
   "execution_count": 5,
   "metadata": {},
   "outputs": [
    {
     "data": {
      "text/plain": [
       "'পাল্প ফিকশন দেখলাম। আগে রেটিং টা দেখেনিয়েছিলাম।বেশ ভালো রেটিং আই এম ডিবিতে ।৮.৯। খুটায়া খুটায়া সময় নিয়া , ডায়লগ গুলা দেখছি।মুভিটা কয়েকটা গল্পের কম্বিনেশন , একটি সুতোয় আবার গল্পগুলো জোড়ানো। তবে মুভিটাতে এত রেটিং থাকার রহস্য কি বুঝিনাই । মুভিটা এত ভাল হবার কারণ, রেটিং এত হাই থাকার কারণ কিংবা গল্পগুলার মাঝে বিশেষ কোন মেসেজ আছে কি নাই'"
      ]
     },
     "execution_count": 5,
     "metadata": {},
     "output_type": "execute_result"
    }
   ],
   "source": [
    "review[0]"
   ]
  },
  {
   "cell_type": "code",
   "execution_count": 6,
   "metadata": {},
   "outputs": [],
   "source": [
    "# review_train=[line.replace(',','asdsadasdadadad') for line in review_train]\n",
    "\n",
    "REPLACE_NO_SPACE = re.compile(\"[.;:!\\'?,\\\"()\\[\\]]\")\n",
    "REPLACE_WITH_SPACE = re.compile(\"(<br\\s*/><br\\s*/>)|(\\-)|(\\/)\")\n",
    "\n",
    "def preprocess_reviews(reviews):\n",
    "    reviews = [REPLACE_NO_SPACE.sub(\"\", line.lower()) for line in reviews]\n",
    "    reviews = [REPLACE_WITH_SPACE.sub(\" \", line) for line in reviews]\n",
    "    reviews = [re.sub(\" \\d+\", \" \", line) for line in reviews]\n",
    "    reviews = [line.lower() for line in reviews]\n",
    "    # reviews = [REMOVE_NUMBER.sub(\" \", line) for line in reviews]\n",
    "\n",
    "    return reviews\n",
    "\n",
    "\n",
    "# REPLACE_NO_SPACE = re.compile(\"[.;:!\\'?,\\\"()\\[\\]]\")\n",
    "# review_train = [REPLACE_NO_SPACE.sub(\"\", line.lower()) for line in review_train]"
   ]
  },
  {
   "cell_type": "code",
   "execution_count": 7,
   "metadata": {},
   "outputs": [],
   "source": [
    "review = preprocess_reviews(review)\n",
    "\n",
    "# sentiment_train = preprocess_reviews(sentiment_train)\n",
    "# sentiment_test = preprocess_reviews(sentiment_test)"
   ]
  },
  {
   "cell_type": "code",
   "execution_count": 8,
   "metadata": {},
   "outputs": [],
   "source": [
    "# initialize movie_vector object, and then turn movie train data into a vector \n",
    "movie_vec = CountVectorizer(min_df=2, tokenizer=nltk.word_tokenize)         \n",
    "review = movie_vec.fit_transform(review)"
   ]
  },
  {
   "cell_type": "code",
   "execution_count": 9,
   "metadata": {},
   "outputs": [],
   "source": [
    "# Convert raw frequency counts into TF-IDF values\n",
    "tfidf_transformer = TfidfTransformer()\n",
    "review = tfidf_transformer.fit_transform(review)\n",
    "# review_test=tfidf_transformer.fit_transform(review_test)"
   ]
  },
  {
   "cell_type": "code",
   "execution_count": 10,
   "metadata": {},
   "outputs": [
    {
     "data": {
      "text/plain": [
       "(35, 711)"
      ]
     },
     "execution_count": 10,
     "metadata": {},
     "output_type": "execute_result"
    }
   ],
   "source": [
    "# Same dimensions, now with tf-idf values instead of raw frequency counts\n",
    "review.shape"
   ]
  },
  {
   "cell_type": "code",
   "execution_count": 11,
   "metadata": {},
   "outputs": [
    {
     "data": {
      "text/plain": [
       "(35,)"
      ]
     },
     "execution_count": 11,
     "metadata": {},
     "output_type": "execute_result"
    }
   ],
   "source": [
    "sentiment.shape"
   ]
  },
  {
   "cell_type": "code",
   "execution_count": 12,
   "metadata": {},
   "outputs": [],
   "source": [
    "# Split data into training and test sets\n",
    "\n",
    "review_train,review_test, sentiment_train, sentiment_test = train_test_split(\n",
    "    review, sentiment, test_size = 0.10, random_state = 12)"
   ]
  },
  {
   "cell_type": "code",
   "execution_count": 13,
   "metadata": {},
   "outputs": [
    {
     "data": {
      "text/plain": [
       "(31, 711)"
      ]
     },
     "execution_count": 13,
     "metadata": {},
     "output_type": "execute_result"
    }
   ],
   "source": [
    "review_train.shape"
   ]
  },
  {
   "cell_type": "code",
   "execution_count": 14,
   "metadata": {},
   "outputs": [
    {
     "data": {
      "text/plain": [
       "(31,)"
      ]
     },
     "execution_count": 14,
     "metadata": {},
     "output_type": "execute_result"
    }
   ],
   "source": [
    "sentiment_train.shape"
   ]
  },
  {
   "cell_type": "code",
   "execution_count": 15,
   "metadata": {},
   "outputs": [
    {
     "data": {
      "text/plain": [
       "(4, 711)"
      ]
     },
     "execution_count": 15,
     "metadata": {},
     "output_type": "execute_result"
    }
   ],
   "source": [
    "review_test.shape"
   ]
  },
  {
   "cell_type": "code",
   "execution_count": 16,
   "metadata": {},
   "outputs": [
    {
     "data": {
      "text/plain": [
       "(4,)"
      ]
     },
     "execution_count": 16,
     "metadata": {},
     "output_type": "execute_result"
    }
   ],
   "source": [
    "sentiment_test.shape"
   ]
  },
  {
   "cell_type": "code",
   "execution_count": 17,
   "metadata": {},
   "outputs": [
    {
     "data": {
      "text/plain": [
       "0.5"
      ]
     },
     "execution_count": 17,
     "metadata": {},
     "output_type": "execute_result"
    }
   ],
   "source": [
    "# Train a Multimoda Naive Bayes classifier\n",
    "NB = MultinomialNB()\n",
    "NB= NB.fit(review_train, sentiment_train)\n",
    "y_pred_NB = NB.predict(review_test)\n",
    "NB_accuracy = sklearn.metrics.accuracy_score(sentiment_test, y_pred_NB)\n",
    "NB_accuracy"
   ]
  },
  {
   "cell_type": "code",
   "execution_count": 18,
   "metadata": {},
   "outputs": [
    {
     "data": {
      "text/plain": [
       "0.75"
      ]
     },
     "execution_count": 18,
     "metadata": {},
     "output_type": "execute_result"
    }
   ],
   "source": [
    "# Train a decition tree classifier \n",
    "dt =  DecisionTreeClassifier(min_samples_split = 500, criterion = 'entropy')\n",
    "dt = dt.fit(review_train, sentiment_train)\n",
    "y_pred_DT = dt.predict(review_test)\n",
    "DT_accuracy = sklearn.metrics.accuracy_score(sentiment_test, y_pred_DT)\n",
    "DT_accuracy"
   ]
  },
  {
   "cell_type": "code",
   "execution_count": 19,
   "metadata": {},
   "outputs": [
    {
     "data": {
      "text/plain": [
       "0.5"
      ]
     },
     "execution_count": 19,
     "metadata": {},
     "output_type": "execute_result"
    }
   ],
   "source": [
    "# Train a SVM classifier \n",
    "svm_clf = svm.SVC(gamma='scale')\n",
    "svm_clf = svm_clf.fit(review_train, sentiment_train)\n",
    "y_pred_svm_clf = svm_clf.predict(review_test)\n",
    "svm_clf_accuracy = sklearn.metrics.accuracy_score(sentiment_test, y_pred_svm_clf)\n",
    "svm_clf_accuracy"
   ]
  },
  {
   "cell_type": "code",
   "execution_count": 20,
   "metadata": {
    "scrolled": true
   },
   "outputs": [
    {
     "data": {
      "image/png": "[encoded data removed]",
      "text/plain": [
       "<Figure size 432x288 with 1 Axes>"
      ]
     },
     "metadata": {
      "needs_background": "light"
     },
     "output_type": "display_data"
    }
   ],
   "source": [
    "objects = ('Naive Bayes', 'Decision Tree', 'SVM')\n",
    "y_pos = np.arange(len(objects))\n",
    "performance = [NB_accuracy, DT_accuracy,  svm_clf_accuracy]\n",
    "\n",
    "plt.bar(y_pos, performance, align='center', alpha=0.5, color = \"red\")\n",
    "plt.xticks(y_pos, objects)\n",
    "plt.ylabel('Accuracy')\n",
    "plt.title('Different Classification Algorithm')\n",
    "\n",
    "plt.show()"
   ]
  },
  {
   "cell_type": "code",
   "execution_count": 21,
   "metadata": {},
   "outputs": [],
   "source": [
    "reviews_new = ['ফিল্ম - আর্টিকেল ১৫ (Article 15) IMDB রেটিং - 6.5/10 এ্যানাদার মাষ্টারপিস ফ্রম আয়ুষ্মান খুরানা। মুভিটা প্রথম যখন মুক্তি পায় হল প্রিন্টই ডাউনলোড দিয়ে দেখে ফেলছিলাম। আয়ুষ্মানের মুভি বলে কথা! কিন্তু সমস্যা ছিল, হল প্রিন্ট দেখে কিছুই মাথায় ঢুকছিলো নাহ! মুভির সব কাহিনী মাথার উপ্রে দিয়া গেছিলো! তাই এইচডি আসার পরপরই ডাউনলোড দিয়ে ফেলছিলাম। দেখার সময় পাচ্ছিলাম নাহ! আজ সময় করে দেখতে বসে গেলাম। ভাই রে ভাই, দেখার পরে তো আমি একদম থ হয়ে গেছি! মুভির কনসেপ্ট, বিজিএম, অভিনয়, সব কিছুই ছিল মন-মুগ্ধকর! ❤ কাহিনী সংক্ষেপে - সদ্য এএসপি হওয়া আয়ুষ্মান খুরানার পোস্টিং হয় ইন্ডিয়ার এক গ্রামে। ওয়েল কালচারড, অনেষ্ট পুলিশ অফিসার। যে কি না ভাল স্মনামধন্য বিশ্ববিদ্যালয় থেকে লেখাপড়া করে, এরপর পোষ্ট গ্রাড করেছে ফরেন থেকে। গ্রামের রীতি রেওয়াজ সম্পর্কে যার কোন ধারনাই নেই! তার আসার পরের দিনই দুই মেয়ের ঝুলন্ত লাশ উদ্ধার হয়। জানা যায় দুদিন আগে তিন মেয়ে নিখোঁজ হয়। লোকার পুলিশ বলে, এটা নিজেরাই খুন করছে। কারন তাদের নাকি সমকামী সম্পর্ক ছিল! যেটা গ্রামের বাবা-মা মেনে নিতে পারে নাই! তাই নাকি খালাস করে দিছে! কিন্তু সমস্যা হল, দুই মেয়ের লাশ পাওয়া গেলেও ৩য় মেয়েকে পাওয়া যাচ্ছিলো নাহ! তাদের প্রতি কারো কোনো সহমর্মিতা ছিলো নাহ। কারন তারা ছিল নিচু জাত! তাই বলে তো আর কেস থেমে থাকবে নাহ! যেহেতু সেখানে আয়ুষ্মান আছে! 😀 আসলে কি হয়ে ছিলো এই তিন মেয়ের সাথে? আসলেই কি এটা তারা নিজেরা হত্যা করছিলো? আর যদি করেই, তাহলে ৩য় মেয়েটা কোথায়? জানতে হলে অবশ্যই আপনাকে মুভিটা দেখতে হবে।', 'Absolute joy ride', \n",
    "            ]"
   ]
  },
  {
   "cell_type": "code",
   "execution_count": 22,
   "metadata": {},
   "outputs": [
    {
     "name": "stdout",
     "output_type": "stream",
     "text": [
      "Raees (2017), শাহরুখ খান ,নওয়াজুদ্দীন সিদ্দিকী, মোহাম্মেদ জিসান আইয়ুব, অভিনীত মুভি এটা । মুভিতে এত বড় বড় সমস্ত অভিনেতারা অভিনয় করেছেন যে তাদের কথা চিন্তা করলে মনে হয় এদের জন্য কাহিনীর দরকার নেই । এরা যদি সাধারণ ভাবে নিজেদের মধ্যে কথা বার্তা বলে তাই পারফেক্ট কাহিনি সহ অভিনয় হয়ে যাবে আর এই কথা গুলো ফাস্ট ভেবেছিলাম যখন এর স্টার কাস্ট সম্পর্কে জেনেছিলাম । আর মুভি দেখার পর আমার প্রত্যাশা কি রকম পূরণ হয়ে ছিল তা একটু পরে বলছি। তার আগে একটা বিষয় নিয়ে কিছু কথা বলে নেই । আমারা অনেকে আছি যারা নিজেদের ক্লাস প্রমান করার জন্য বলে থাকি যে আমারা বলিউড মুভি বেছে বেছে দেখি , আমারা নায়ক দেখে না পরিচালক দেখে মুভি দেখি , আমরা মুভি ফ্লপ হল না হিট হল সেটা বিবেচনা করে মুভি দেখিনা ,আমারা মুভির বিষয় বিবেচনা করে মুভি দেখি । এ ছাড়াও আরও কত কিছু । কিন্তু আসলে কি তাই আমার তো সেটা মনে হয় না , কারন যদি এমনটা হতো তাহলে যে সালমান এর টিউবলাইট নিয়ে অনেক হাশি ঠাট্টা হল সেই সালমান এর টাইগার জিন্দা হ্যায় নিয়ে প্রত্যেকের রিঅ্যাকশান ছিল অনেক ভালো , কিন্তু কেন এখানেও তো লজিক ছাড়া অনেক কিছু ছিল যেমন লাস্ট এ সালমান আর ক্যাটরিনার বেঁচে বের হয়ে আসাটা কি স্বাভাবিক ছিল । জানি না আপনাদের কাছে স্বাভাবিক ছিল কিনা আমার কাছে কিন্তু ছিল না। তার পর ধরুন হাউজফুল ৪ মুভিতে কমেডির নামে যা ইচ্ছে তাই , কিন্তু মুভি হিট বলে তেমন কোন পচানির শিকার তারা হননি । কিন্তু সেরকমই তো কমেডি ধাঁচের মুভি ছিল দিলওয়ালে কিন্তু মুভি তেমন হিট হতে পারেনি বলে তাকে রাম পচানো পচিয়েছে । তখন পরিচালক দেখে না প্রত্যেকে করছে তাই আমি ও করবো অনেকটা সেই রকম ভেবে তারাও করেছে , এবং পরে নিজেদের ক্লাস নিয়ে বড়াই করে । এই আর কি । তো মুভি রিভিউ দিতে এসে এই ধরনের জ্ঞান দিয়ার কারন হল একটাই যে আমি এই মুভি সম্পর্কে অনেকের রিভিউ দেখেছি তারা মুভি টাকে পুরো ধুয়ে দিছে । কিন্তু যখন আমি দেখেছি আমার কাছে তা খারাপ ফালতু একদম মনে হয়নি , হ্যাঁ লাস্ট এর পার্ট টা যদি একটু ভাল হতো তাহলে আর একটু ভাল হতো এই আরকি , কিন্তু তার জন্যে তাকে ফালতু বলা শাহরুখ এর মুভি পছন্দ করা নিয়ে খারাপ কথা বলা আমার মতে ঠিক হয়নি । মুভিতে শুরু থেকে একটা ছেলের ব্যবসায়ী হয়ে উঠা তারপর ঘটনা ক্রমে বড় অপরাধী হয়ে যাওয়া এবং তার শেষ পরিণতি সমস্ত কিছু দুর্দান্ত ছিল । শাহরুখ এর অভিনয় তার attitude, তার expression সমস্ত কিছু দারুণ ছিল বিশেষ করে তার আর নওয়াজুদ্দীনর একসাথে যতো গুলো দৃশ্য ছিল তা এক কথায় অসাধারণ , আমি অন্যদেরটা জানিনা , কিন্তু আমার দেখা অন্যতম অসাধারণ অভিনয় আর একটা অসাধারণ মুভি এটা । এই মুভি যদি ক্লাশ আর রাজনৈতিক ঝামেলার শিকার না হতো তাহলে আমার মতে এই মুভি ঐ বছরের অনেক বড় হিট মুভি হতো । মুভিতে প্রত্যেকের অভিনয় অনেক ভাল হয়েছে মাহিরা খান এর রোল কম ছিল কিন্তু তার পর ও ভাল অভিনয় করেছে , তিনি মুভিতে শাহরুখ এর বউ এর চরিত্রে খুব ভাল মানিয়েছেন । নওয়াজুদ্দীন সিদ্দিকী, মোহাম্মেদ জিসান আইয়ুব, এরা এদের চরিত্রে দুর্দান্ত অভিনয় করেছেন । মুভির গান গুলো ও দারুন ।\n"
     ]
    }
   ],
   "source": [
    "new = input()"
   ]
  },
  {
   "cell_type": "code",
   "execution_count": 28,
   "metadata": {},
   "outputs": [],
   "source": [
    "reviews_new.append(new)"
   ]
  },
  {
   "cell_type": "code",
   "execution_count": 29,
   "metadata": {},
   "outputs": [],
   "source": [
    "# very short and fake movie reviews\n",
    "#reviews_new = ['ফিল্ম - আর্টিকেল ১৫ (Article 15) IMDB রেটিং - 6.5/10 এ্যানাদার মাষ্টারপিস ফ্রম আয়ুষ্মান খুরানা। মুভিটা প্রথম যখন মুক্তি পায় হল প্রিন্টই ডাউনলোড দিয়ে দেখে ফেলছিলাম। আয়ুষ্মানের মুভি বলে কথা! কিন্তু সমস্যা ছিল, হল প্রিন্ট দেখে কিছুই মাথায় ঢুকছিলো নাহ! মুভির সব কাহিনী মাথার উপ্রে দিয়া গেছিলো! তাই এইচডি আসার পরপরই ডাউনলোড দিয়ে ফেলছিলাম। দেখার সময় পাচ্ছিলাম নাহ! আজ সময় করে দেখতে বসে গেলাম। ভাই রে ভাই, দেখার পরে তো আমি একদম থ হয়ে গেছি! মুভির কনসেপ্ট, বিজিএম, অভিনয়, সব কিছুই ছিল মন-মুগ্ধকর! ❤ কাহিনী সংক্ষেপে - সদ্য এএসপি হওয়া আয়ুষ্মান খুরানার পোস্টিং হয় ইন্ডিয়ার এক গ্রামে। ওয়েল কালচারড, অনেষ্ট পুলিশ অফিসার। যে কি না ভাল স্মনামধন্য বিশ্ববিদ্যালয় থেকে লেখাপড়া করে, এরপর পোষ্ট গ্রাড করেছে ফরেন থেকে। গ্রামের রীতি রেওয়াজ সম্পর্কে যার কোন ধারনাই নেই! তার আসার পরের দিনই দুই মেয়ের ঝুলন্ত লাশ উদ্ধার হয়। জানা যায় দুদিন আগে তিন মেয়ে নিখোঁজ হয়। লোকার পুলিশ বলে, এটা নিজেরাই খুন করছে। কারন তাদের নাকি সমকামী সম্পর্ক ছিল! যেটা গ্রামের বাবা-মা মেনে নিতে পারে নাই! তাই নাকি খালাস করে দিছে! কিন্তু সমস্যা হল, দুই মেয়ের লাশ পাওয়া গেলেও ৩য় মেয়েকে পাওয়া যাচ্ছিলো নাহ! তাদের প্রতি কারো কোনো সহমর্মিতা ছিলো নাহ। কারন তারা ছিল নিচু জাত! তাই বলে তো আর কেস থেমে থাকবে নাহ! যেহেতু সেখানে আয়ুষ্মান আছে! 😀 আসলে কি হয়ে ছিলো এই তিন মেয়ের সাথে? আসলেই কি এটা তারা নিজেরা হত্যা করছিলো? আর যদি করেই, তাহলে ৩য় মেয়েটা কোথায়? জানতে হলে অবশ্যই আপনাকে মুভিটা দেখতে হবে।', 'Absolute joy ride', \n",
    "         #   'Steven Seagal was terrible', 'Steven Seagal shined through.', \n",
    "          #    'This was certainly a movie', 'Two thumbs up', 'I fell asleep halfway through', \n",
    "           #   \"We can't wait for the sequel!!\", 'I cannot recommend this highly enough', \n",
    "           #   'instant classic.', 'Steven Seagal was amazing. His performance was Oscar-worthy.']\n",
    "reviews_new_counts = movie_vec.transform(reviews_new)\n",
    "reviews_new_tfidf = tfidf_transformer.transform(reviews_new_counts)"
   ]
  },
  {
   "cell_type": "code",
   "execution_count": 30,
   "metadata": {},
   "outputs": [],
   "source": [
    "# have classifier make a prediction\n",
    "pred = NB.predict(reviews_new_tfidf) #we used naive bayes "
   ]
  },
  {
   "cell_type": "code",
   "execution_count": 31,
   "metadata": {},
   "outputs": [
    {
     "data": {
      "text/plain": [
       "array([0, 1, 1, 1], dtype=int64)"
      ]
     },
     "execution_count": 31,
     "metadata": {},
     "output_type": "execute_result"
    }
   ],
   "source": [
    "pred"
   ]
  },
  {
   "cell_type": "code",
   "execution_count": 32,
   "metadata": {
    "scrolled": true
   },
   "outputs": [
    {
     "name": "stdout",
     "output_type": "stream",
     "text": [
      "'ফিল্ম - আর্টিকেল ১৫ (Article 15) IMDB রেটিং - 6.5/10 এ্যানাদার মাষ্টারপিস ফ্রম আয়ুষ্মান খুরানা। মুভিটা প্রথম যখন মুক্তি পায় হল প্রিন্টই ডাউনলোড দিয়ে দেখে ফেলছিলাম। আয়ুষ্মানের মুভি বলে কথা! কিন্তু সমস্যা ছিল, হল প্রিন্ট দেখে কিছুই মাথায় ঢুকছিলো নাহ! মুভির সব কাহিনী মাথার উপ্রে দিয়া গেছিলো! তাই এইচডি আসার পরপরই ডাউনলোড দিয়ে ফেলছিলাম। দেখার সময় পাচ্ছিলাম নাহ! আজ সময় করে দেখতে বসে গেলাম। ভাই রে ভাই, দেখার পরে তো আমি একদম থ হয়ে গেছি! মুভির কনসেপ্ট, বিজিএম, অভিনয়, সব কিছুই ছিল মন-মুগ্ধকর! ❤ কাহিনী সংক্ষেপে - সদ্য এএসপি হওয়া আয়ুষ্মান খুরানার পোস্টিং হয় ইন্ডিয়ার এক গ্রামে। ওয়েল কালচারড, অনেষ্ট পুলিশ অফিসার। যে কি না ভাল স্মনামধন্য বিশ্ববিদ্যালয় থেকে লেখাপড়া করে, এরপর পোষ্ট গ্রাড করেছে ফরেন থেকে। গ্রামের রীতি রেওয়াজ সম্পর্কে যার কোন ধারনাই নেই! তার আসার পরের দিনই দুই মেয়ের ঝুলন্ত লাশ উদ্ধার হয়। জানা যায় দুদিন আগে তিন মেয়ে নিখোঁজ হয়। লোকার পুলিশ বলে, এটা নিজেরাই খুন করছে। কারন তাদের নাকি সমকামী সম্পর্ক ছিল! যেটা গ্রামের বাবা-মা মেনে নিতে পারে নাই! তাই নাকি খালাস করে দিছে! কিন্তু সমস্যা হল, দুই মেয়ের লাশ পাওয়া গেলেও ৩য় মেয়েকে পাওয়া যাচ্ছিলো নাহ! তাদের প্রতি কারো কোনো সহমর্মিতা ছিলো নাহ। কারন তারা ছিল নিচু জাত! তাই বলে তো আর কেস থেমে থাকবে নাহ! যেহেতু সেখানে আয়ুষ্মান আছে! 😀 আসলে কি হয়ে ছিলো এই তিন মেয়ের সাথে? আসলেই কি এটা তারা নিজেরা হত্যা করছিলো? আর যদি করেই, তাহলে ৩য় মেয়েটা কোথায়? জানতে হলে অবশ্যই আপনাকে মুভিটা দেখতে হবে।' => 0\n",
      "'Absolute joy ride' => 1\n",
      "'Raees (2017), শাহরুখ খান ,নওয়াজুদ্দীন সিদ্দিকী, মোহাম্মেদ জিসান আইয়ুব, অভিনীত মুভি এটা । মুভিতে এত বড় বড় সমস্ত অভিনেতারা অভিনয় করেছেন যে তাদের কথা চিন্তা করলে মনে হয় এদের জন্য কাহিনীর দরকার নেই । এরা যদি সাধারণ ভাবে নিজেদের মধ্যে কথা বার্তা বলে তাই পারফেক্ট কাহিনি সহ অভিনয় হয়ে যাবে আর এই কথা গুলো ফাস্ট ভেবেছিলাম যখন এর স্টার কাস্ট সম্পর্কে জেনেছিলাম । আর মুভি দেখার পর আমার প্রত্যাশা কি রকম পূরণ হয়ে ছিল তা একটু পরে বলছি। তার আগে একটা বিষয় নিয়ে কিছু কথা বলে নেই । আমারা অনেকে আছি যারা নিজেদের ক্লাস প্রমান করার জন্য বলে থাকি যে আমারা বলিউড মুভি বেছে বেছে দেখি , আমারা নায়ক দেখে না পরিচালক দেখে মুভি দেখি , আমরা মুভি ফ্লপ হল না হিট হল সেটা বিবেচনা করে মুভি দেখিনা ,আমারা মুভির বিষয় বিবেচনা করে মুভি দেখি । এ ছাড়াও আরও কত কিছু । কিন্তু আসলে কি তাই আমার তো সেটা মনে হয় না , কারন যদি এমনটা হতো তাহলে যে সালমান এর টিউবলাইট নিয়ে অনেক হাশি ঠাট্টা হল সেই সালমান এর টাইগার জিন্দা হ্যায় নিয়ে প্রত্যেকের রিঅ্যাকশান ছিল অনেক ভালো , কিন্তু কেন এখানেও তো লজিক ছাড়া অনেক কিছু ছিল যেমন লাস্ট এ সালমান আর ক্যাটরিনার বেঁচে বের হয়ে আসাটা কি স্বাভাবিক ছিল । জানি না আপনাদের কাছে স্বাভাবিক ছিল কিনা আমার কাছে কিন্তু ছিল না। তার পর ধরুন হাউজফুল ৪ মুভিতে কমেডির নামে যা ইচ্ছে তাই , কিন্তু মুভি হিট বলে তেমন কোন পচানির শিকার তারা হননি । কিন্তু সেরকমই তো কমেডি ধাঁচের মুভি ছিল দিলওয়ালে কিন্তু মুভি তেমন হিট হতে পারেনি বলে তাকে রাম পচানো পচিয়েছে । তখন পরিচালক দেখে না প্রত্যেকে করছে তাই আমি ও করবো অনেকটা সেই রকম ভেবে তারাও করেছে , এবং পরে নিজেদের ক্লাস নিয়ে বড়াই করে । এই আর কি । তো মুভি রিভিউ দিতে এসে এই ধরনের জ্ঞান দিয়ার কারন হল একটাই যে আমি এই মুভি সম্পর্কে অনেকের রিভিউ দেখেছি তারা মুভি টাকে পুরো ধুয়ে দিছে । কিন্তু যখন আমি দেখেছি আমার কাছে তা খারাপ ফালতু একদম মনে হয়নি , হ্যাঁ লাস্ট এর পার্ট টা যদি একটু ভাল হতো তাহলে আর একটু ভাল হতো এই আরকি , কিন্তু তার জন্যে তাকে ফালতু বলা শাহরুখ এর মুভি পছন্দ করা নিয়ে খারাপ কথা বলা আমার মতে ঠিক হয়নি । মুভিতে শুরু থেকে একটা ছেলের ব্যবসায়ী হয়ে উঠা তারপর ঘটনা ক্রমে বড় অপরাধী হয়ে যাওয়া এবং তার শেষ পরিণতি সমস্ত কিছু দুর্দান্ত ছিল । শাহরুখ এর অভিনয় তার attitude, তার expression সমস্ত কিছু দারুণ ছিল বিশেষ করে তার আর নওয়াজুদ্দীনর একসাথে যতো গুলো দৃশ্য ছিল তা এক কথায় অসাধারণ , আমি অন্যদেরটা জানিনা , কিন্তু আমার দেখা অন্যতম অসাধারণ অভিনয় আর একটা অসাধারণ মুভি এটা । এই মুভি যদি ক্লাশ আর রাজনৈতিক ঝামেলার শিকার না হতো তাহলে আমার মতে এই মুভি ঐ বছরের অনেক বড় হিট মুভি হতো । মুভিতে প্রত্যেকের অভিনয় অনেক ভাল হয়েছে মাহিরা খান এর রোল কম ছিল কিন্তু তার পর ও ভাল অভিনয় করেছে , তিনি মুভিতে শাহরুখ এর বউ এর চরিত্রে খুব ভাল মানিয়েছেন । নওয়াজুদ্দীন সিদ্দিকী, মোহাম্মেদ জিসান আইয়ুব, এরা এদের চরিত্রে দুর্দান্ত অভিনয় করেছেন । মুভির গান গুলো ও দারুন ।' => 1\n",
      "'Raees (2017), শাহরুখ খান ,নওয়াজুদ্দীন সিদ্দিকী, মোহাম্মেদ জিসান আইয়ুব, অভিনীত মুভি এটা । মুভিতে এত বড় বড় সমস্ত অভিনেতারা অভিনয় করেছেন যে তাদের কথা চিন্তা করলে মনে হয় এদের জন্য কাহিনীর দরকার নেই । এরা যদি সাধারণ ভাবে নিজেদের মধ্যে কথা বার্তা বলে তাই পারফেক্ট কাহিনি সহ অভিনয় হয়ে যাবে আর এই কথা গুলো ফাস্ট ভেবেছিলাম যখন এর স্টার কাস্ট সম্পর্কে জেনেছিলাম । আর মুভি দেখার পর আমার প্রত্যাশা কি রকম পূরণ হয়ে ছিল তা একটু পরে বলছি। তার আগে একটা বিষয় নিয়ে কিছু কথা বলে নেই । আমারা অনেকে আছি যারা নিজেদের ক্লাস প্রমান করার জন্য বলে থাকি যে আমারা বলিউড মুভি বেছে বেছে দেখি , আমারা নায়ক দেখে না পরিচালক দেখে মুভি দেখি , আমরা মুভি ফ্লপ হল না হিট হল সেটা বিবেচনা করে মুভি দেখিনা ,আমারা মুভির বিষয় বিবেচনা করে মুভি দেখি । এ ছাড়াও আরও কত কিছু । কিন্তু আসলে কি তাই আমার তো সেটা মনে হয় না , কারন যদি এমনটা হতো তাহলে যে সালমান এর টিউবলাইট নিয়ে অনেক হাশি ঠাট্টা হল সেই সালমান এর টাইগার জিন্দা হ্যায় নিয়ে প্রত্যেকের রিঅ্যাকশান ছিল অনেক ভালো , কিন্তু কেন এখানেও তো লজিক ছাড়া অনেক কিছু ছিল যেমন লাস্ট এ সালমান আর ক্যাটরিনার বেঁচে বের হয়ে আসাটা কি স্বাভাবিক ছিল । জানি না আপনাদের কাছে স্বাভাবিক ছিল কিনা আমার কাছে কিন্তু ছিল না। তার পর ধরুন হাউজফুল ৪ মুভিতে কমেডির নামে যা ইচ্ছে তাই , কিন্তু মুভি হিট বলে তেমন কোন পচানির শিকার তারা হননি । কিন্তু সেরকমই তো কমেডি ধাঁচের মুভি ছিল দিলওয়ালে কিন্তু মুভি তেমন হিট হতে পারেনি বলে তাকে রাম পচানো পচিয়েছে । তখন পরিচালক দেখে না প্রত্যেকে করছে তাই আমি ও করবো অনেকটা সেই রকম ভেবে তারাও করেছে , এবং পরে নিজেদের ক্লাস নিয়ে বড়াই করে । এই আর কি । তো মুভি রিভিউ দিতে এসে এই ধরনের জ্ঞান দিয়ার কারন হল একটাই যে আমি এই মুভি সম্পর্কে অনেকের রিভিউ দেখেছি তারা মুভি টাকে পুরো ধুয়ে দিছে । কিন্তু যখন আমি দেখেছি আমার কাছে তা খারাপ ফালতু একদম মনে হয়নি , হ্যাঁ লাস্ট এর পার্ট টা যদি একটু ভাল হতো তাহলে আর একটু ভাল হতো এই আরকি , কিন্তু তার জন্যে তাকে ফালতু বলা শাহরুখ এর মুভি পছন্দ করা নিয়ে খারাপ কথা বলা আমার মতে ঠিক হয়নি । মুভিতে শুরু থেকে একটা ছেলের ব্যবসায়ী হয়ে উঠা তারপর ঘটনা ক্রমে বড় অপরাধী হয়ে যাওয়া এবং তার শেষ পরিণতি সমস্ত কিছু দুর্দান্ত ছিল । শাহরুখ এর অভিনয় তার attitude, তার expression সমস্ত কিছু দারুণ ছিল বিশেষ করে তার আর নওয়াজুদ্দীনর একসাথে যতো গুলো দৃশ্য ছিল তা এক কথায় অসাধারণ , আমি অন্যদেরটা জানিনা , কিন্তু আমার দেখা অন্যতম অসাধারণ অভিনয় আর একটা অসাধারণ মুভি এটা । এই মুভি যদি ক্লাশ আর রাজনৈতিক ঝামেলার শিকার না হতো তাহলে আমার মতে এই মুভি ঐ বছরের অনেক বড় হিট মুভি হতো । মুভিতে প্রত্যেকের অভিনয় অনেক ভাল হয়েছে মাহিরা খান এর রোল কম ছিল কিন্তু তার পর ও ভাল অভিনয় করেছে , তিনি মুভিতে শাহরুখ এর বউ এর চরিত্রে খুব ভাল মানিয়েছেন । নওয়াজুদ্দীন সিদ্দিকী, মোহাম্মেদ জিসান আইয়ুব, এরা এদের চরিত্রে দুর্দান্ত অভিনয় করেছেন । মুভির গান গুলো ও দারুন ।' => 1\n"
     ]
    }
   ],
   "source": [
    "# print out results\n",
    "for review, category in zip(reviews_new, pred):\n",
    "    print('%r => %s' % (review, category))"
   ]
  },
  {
   "cell_type": "code",
   "execution_count": null,
   "metadata": {},
   "outputs": [],
   "source": []
  }
 ],
 "metadata": {
  "kernelspec": {
   "display_name": "Python 3",
   "language": "python",
   "name": "python3"
  },
  "language_info": {
   "codemirror_mode": {
    "name": "ipython",
    "version": 3
   },
   "file_extension": ".py",
   "mimetype": "text/x-python",
   "name": "python",
   "nbconvert_exporter": "python",
   "pygments_lexer": "ipython3",
   "version": "3.7.3"
  }
 },
 "nbformat": 4,
 "nbformat_minor": 2
}
